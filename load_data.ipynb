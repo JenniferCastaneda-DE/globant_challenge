{
 "cells": [
  {
   "cell_type": "code",
   "execution_count": 28,
   "metadata": {},
   "outputs": [],
   "source": [
    "#Install libraries\n",
    "import boto3\n",
    "from botocore.exceptions import NoCredentialsError, PartialCredentialsError, ClientError\n",
    "import os\n",
    "import json"
   ]
  },
  {
   "cell_type": "code",
   "execution_count": 29,
   "metadata": {},
   "outputs": [],
   "source": [
    "# Upload credentials\n",
    "with open('credentials.json', 'r') as file:\n",
    "    credentials = json.load(file)\n",
    "\n",
    "\n",
    "master_username = credentials['master_username']\n",
    "master_user_password = credentials['master_user_password']\n",
    "data_base_name = credentials['data_base_name']\n",
    "region_name = credentials['region_name']"
   ]
  },
  {
   "cell_type": "code",
   "execution_count": 30,
   "metadata": {},
   "outputs": [],
   "source": [
    "def create_s3_bucket(bucket_name, region_name=region_name):\n",
    "    \"\"\"\n",
    "    Create an S3 bucket\n",
    "    \n",
    "    :param bucket_name: unique name for bucket\n",
    "    :param region_name: region for bucket\n",
    "    :return: True if the bucket was created successfully, False otherwise\n",
    "    \"\"\"\n",
    "    # Create client S3\n",
    "    s3_client = boto3.client('s3', region_name=region_name)\n",
    "\n",
    "    try:\n",
    "        if region_name == \"us-east-1\":\n",
    "            s3_client.create_bucket(Bucket=bucket_name)\n",
    "        else:\n",
    "            location = {'LocationConstraint': region_name}\n",
    "            s3_client.create_bucket(Bucket=bucket_name, CreateBucketConfiguration=location)\n",
    "\n",
    "        print(f\"Bucket '{bucket_name}' successfully created in the region {region_name}.\")\n",
    "        return True\n",
    "    except ClientError as e:\n",
    "        print(f\"Error creating bucket: {e}\")\n",
    "        return False"
   ]
  },
  {
   "cell_type": "code",
   "execution_count": 31,
   "metadata": {},
   "outputs": [],
   "source": [
    "def upload_files_to_s3(file_paths, bucket_name):\n",
    "    \"\"\"\n",
    "    Upload files to S3 bucket, creating a folder for each file based on its root name.\n",
    "\n",
    "    :param file_paths: path of local files.\n",
    "    :param bucket_name: S3 bucket name.\n",
    "    :return: None\n",
    "    \"\"\"\n",
    "    # Create client S3\n",
    "    s3_client = boto3.client('s3')\n",
    "\n",
    "    for local_file_path in file_paths:\n",
    "        try:\n",
    "            # Get file name without extension to use as folder in S3\n",
    "            file_name = os.path.basename(local_file_path)\n",
    "            folder_name = os.path.splitext(file_name)[0]\n",
    "            s3_file_key = f\"{folder_name}/{file_name}\"\n",
    "\n",
    "            # Upload files\n",
    "            s3_client.upload_file(local_file_path, bucket_name, s3_file_key)\n",
    "            print(f\"File {local_file_path} upload to {bucket_name}/{s3_file_key} successfully.\")\n",
    "        \n",
    "        except FileNotFoundError:\n",
    "            print(f\"File {local_file_path} was not found.\")\n",
    "        except NoCredentialsError:\n",
    "            print(\"Credentials are not available.\")\n",
    "        except PartialCredentialsError:\n",
    "            print(\"Credentials are incomplete.\")\n",
    "        except Exception as e:\n",
    "            print(f\"Error uploading file {local_file_path}: {e}\")"
   ]
  },
  {
   "cell_type": "code",
   "execution_count": 32,
   "metadata": {},
   "outputs": [],
   "source": [
    "def create_rds_instance(db_instance_identifier, master_username, master_user_password, db_name, region_name):\n",
    "    # Create client RDS\n",
    "    rds_client = boto3.client('rds', region_name=region_name)\n",
    "    \n",
    "    try:\n",
    "        # Create instance RDS\n",
    "        response = rds_client.create_db_instance(\n",
    "            DBInstanceIdentifier=db_instance_identifier,\n",
    "            DBInstanceClass='db.t4g.micro',\n",
    "            Engine='mysql',\n",
    "            MasterUsername=master_username,\n",
    "            MasterUserPassword=master_user_password,\n",
    "            AllocatedStorage=20,\n",
    "            PubliclyAccessible=False,\n",
    "            MultiAZ=False,\n",
    "            StorageType='gp2',\n",
    "            BackupRetentionPeriod=7,\n",
    "            DBName=db_name,\n",
    "        )\n",
    "        print(\"Instance creation started:\", response)\n",
    "    except Exception as e:\n",
    "        print(\"Error creating RDS instance:\", e)"
   ]
  },
  {
   "cell_type": "code",
   "execution_count": null,
   "metadata": {},
   "outputs": [
    {
     "name": "stdout",
     "output_type": "stream",
     "text": [
      "Bucket 'big-data-migration-globant' successfully created in the region us-east-1.\n"
     ]
    },
    {
     "data": {
      "text/plain": [
       "True"
      ]
     },
     "execution_count": 33,
     "metadata": {},
     "output_type": "execute_result"
    }
   ],
   "source": [
    "# Create the bucket\n",
    "bucket_name = \"big-data-migration-globant\"\n",
    "\n",
    "create_s3_bucket(bucket_name, region_name)"
   ]
  },
  {
   "cell_type": "code",
   "execution_count": 34,
   "metadata": {},
   "outputs": [
    {
     "name": "stdout",
     "output_type": "stream",
     "text": [
      "File departments.csv upload to big-data-migration-globant/departments/departments.csv successfully.\n",
      "File hired_employees.csv upload to big-data-migration-globant/hired_employees/hired_employees.csv successfully.\n",
      "File jobs.csv upload to big-data-migration-globant/jobs/jobs.csv successfully.\n"
     ]
    }
   ],
   "source": [
    "#Upload the files to bucket\n",
    "file_paths = [\n",
    "    \"departments.csv\",\n",
    "    \"hired_employees.csv\",\n",
    "    \"jobs.csv\"\n",
    "]\n",
    "\n",
    "upload_files_to_s3(file_paths, bucket_name)"
   ]
  },
  {
   "cell_type": "code",
   "execution_count": null,
   "metadata": {},
   "outputs": [
    {
     "name": "stdout",
     "output_type": "stream",
     "text": [
      "Instance creation started: {'DBInstance': {'DBInstanceIdentifier': 'big-data-migration-instance', 'DBInstanceClass': 'db.t4g.micro', 'Engine': 'mysql', 'DBInstanceStatus': 'creating', 'MasterUsername': 'jennifer_castaneda', 'DBName': 'db_nombre_unico', 'AllocatedStorage': 20, 'PreferredBackupWindow': '06:07-06:37', 'BackupRetentionPeriod': 7, 'DBSecurityGroups': [], 'VpcSecurityGroups': [{'VpcSecurityGroupId': 'sg-0a65238c88f1dd91d', 'Status': 'active'}], 'DBParameterGroups': [{'DBParameterGroupName': 'default.mysql8.0', 'ParameterApplyStatus': 'in-sync'}], 'DBSubnetGroup': {'DBSubnetGroupName': 'default', 'DBSubnetGroupDescription': 'default', 'VpcId': 'vpc-06bb97ddaf1702626', 'SubnetGroupStatus': 'Complete', 'Subnets': [{'SubnetIdentifier': 'subnet-0b3f7a394fdffdef1', 'SubnetAvailabilityZone': {'Name': 'us-east-1b'}, 'SubnetOutpost': {}, 'SubnetStatus': 'Active'}, {'SubnetIdentifier': 'subnet-0949e25470fa007c1', 'SubnetAvailabilityZone': {'Name': 'us-east-1d'}, 'SubnetOutpost': {}, 'SubnetStatus': 'Active'}, {'SubnetIdentifier': 'subnet-030ce6fa74c90a840', 'SubnetAvailabilityZone': {'Name': 'us-east-1f'}, 'SubnetOutpost': {}, 'SubnetStatus': 'Active'}, {'SubnetIdentifier': 'subnet-072ce2234150bb8c0', 'SubnetAvailabilityZone': {'Name': 'us-east-1e'}, 'SubnetOutpost': {}, 'SubnetStatus': 'Active'}, {'SubnetIdentifier': 'subnet-045e2f610980d7402', 'SubnetAvailabilityZone': {'Name': 'us-east-1a'}, 'SubnetOutpost': {}, 'SubnetStatus': 'Active'}, {'SubnetIdentifier': 'subnet-04a3de77724a7d64e', 'SubnetAvailabilityZone': {'Name': 'us-east-1c'}, 'SubnetOutpost': {}, 'SubnetStatus': 'Active'}]}, 'PreferredMaintenanceWindow': 'sat:07:52-sat:08:22', 'PendingModifiedValues': {'MasterUserPassword': '****'}, 'MultiAZ': False, 'EngineVersion': '8.0.39', 'AutoMinorVersionUpgrade': True, 'ReadReplicaDBInstanceIdentifiers': [], 'LicenseModel': 'general-public-license', 'OptionGroupMemberships': [{'OptionGroupName': 'default:mysql-8-0', 'Status': 'in-sync'}], 'PubliclyAccessible': False, 'StorageType': 'gp2', 'DbInstancePort': 0, 'StorageEncrypted': False, 'DbiResourceId': 'db-MTVUB4QJ5PB2OHRB5M7ZC6A65E', 'CACertificateIdentifier': 'rds-ca-rsa2048-g1', 'DomainMemberships': [], 'CopyTagsToSnapshot': False, 'MonitoringInterval': 0, 'DBInstanceArn': 'arn:aws:rds:us-east-1:961341546033:db:big-data-migration-instance', 'IAMDatabaseAuthenticationEnabled': False, 'PerformanceInsightsEnabled': False, 'DeletionProtection': False, 'AssociatedRoles': [], 'TagList': [], 'CustomerOwnedIpEnabled': False, 'BackupTarget': 'region', 'NetworkType': 'IPV4', 'StorageThroughput': 0, 'CertificateDetails': {'CAIdentifier': 'rds-ca-rsa2048-g1'}, 'DedicatedLogVolume': False, 'EngineLifecycleSupport': 'open-source-rds-extended-support'}, 'ResponseMetadata': {'RequestId': '8e014ae0-1540-4b4c-a096-162c70f494c3', 'HTTPStatusCode': 200, 'HTTPHeaders': {'x-amzn-requestid': '8e014ae0-1540-4b4c-a096-162c70f494c3', 'strict-transport-security': 'max-age=31536000', 'content-type': 'text/xml', 'content-length': '4177', 'date': 'Mon, 11 Nov 2024 04:20:13 GMT'}, 'RetryAttempts': 0}}\n"
     ]
    }
   ],
   "source": [
    "#Create the RDS, mysql\n",
    "create_rds_instance(\n",
    "    db_instance_identifier=\"db-globant\",\n",
    "    master_username=master_username,\n",
    "    master_user_password=master_user_password,\n",
    "    db_name=data_base_name,\n",
    "    region_name=region_name\n",
    ")"
   ]
  }
 ],
 "metadata": {
  "kernelspec": {
   "display_name": "Python 3",
   "language": "python",
   "name": "python3"
  },
  "language_info": {
   "codemirror_mode": {
    "name": "ipython",
    "version": 3
   },
   "file_extension": ".py",
   "mimetype": "text/x-python",
   "name": "python",
   "nbconvert_exporter": "python",
   "pygments_lexer": "ipython3",
   "version": "3.13.0"
  }
 },
 "nbformat": 4,
 "nbformat_minor": 2
}
